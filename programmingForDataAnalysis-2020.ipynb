{
 "cells": [
  {
   "cell_type": "markdown",
   "metadata": {},
   "source": [
    "# Programming for Data Analysis - 2020 Preject\n",
    "****\n",
    "\n",
    "## Course: Higher Diploma in Data Analytics\n",
    "\n",
    "## Module: Programming for Data Analytics\n",
    "\n",
    "## Year: 2020\n",
    "\n",
    "## Student Name : Bonny Chimezie Nwosu\n",
    "\n",
    "## Student ID : G00387847"
   ]
  },
  {
   "cell_type": "markdown",
   "metadata": {},
   "source": [
    "## Introduction\n",
    "\n",
    "***\n",
    "The study of this project will be focus on how to use simulation to create a data  for a real-world phenomenon.\n",
    "By simulation we mean, an approximate imitation of the operation of a process or system that represents its operation over time.[1]\n",
    "\n",
    "Simulation is used in many contexts, such as simulation of technology for performance tuning or optimizing, safety engineering, testing, training, education[2], and video games. Often, computer experiments are used to study simulation models. Simulation is also used with scientific modelling of natural systems[2] or human systems to gain insight into their functioning,[3] as in economics. Simulation can be used to show the eventual real effects of alternative conditions and courses of action. Simulation is also used when the real system cannot be engaged, because it may not be accessible, or it may be dangerous or unacceptable to engage, or it is being designed but not yet built, or it may simply not exist.  wikipedia, https://en.wikipedia.org/wiki/Simulation\n",
    "\n",
    "The problem solving will base on how to generate a dataset that is close enough for the purpose to solve the real-world phenomenon\n",
    "\n",
    "\n",
    "## Problem Statement\n",
    "\n",
    "***\n",
    "For this project you must create a data set by simulating a real-world phenomenon of\n",
    "your choosing. You may pick any phenomenon you wish – you might pick one that is\n",
    "of interest to you in your personal or professional life. Then, rather than collect data\n",
    "related to the phenomenon, you should model and synthesise such data using Python.\n",
    "We suggest you use the numpy.random package for this purpose.\n",
    "Specifically, in this project you should:"
   ]
  },
  {
   "cell_type": "markdown",
   "metadata": {},
   "source": [
    "## Lunch of Healthy Ireland 2021\n",
    "\n",
    "***\n",
    "This is the seventh time the Healthy Ireland Survey will be conducted and adds to the data collected in the previous surveys from 2015 - 2020. It is envisaged that a representative sample of approximately 7,400 people, aged 15 and older, living in Ireland will be interviewed between October 2020 and June 2021.\n",
    "\n",
    "\n",
    "The project will base it research and investigation on Age, Gender, Physical Activity, Amount of Sleep and BMI \n",
    "using 2019 healthy Ireland summary report \n",
    "\n",
    "\n"
   ]
  },
  {
   "cell_type": "code",
   "execution_count": 1,
   "metadata": {},
   "outputs": [],
   "source": [
    "import pandas as pd\n",
    "import seaborn as sns\n",
    "import numpy as np\n",
    "import matplotlib.pyplot as plt"
   ]
  },
  {
   "cell_type": "markdown",
   "metadata": {},
   "source": [
    "## Age\n",
    "\n",
    "The Healthy Ireland Survey uses an interviewer- administered questionnaire with interviews conducted on a face-to-face basis with individuals aged 15 and over. This is the fourth wave of the survey conducted between September 2018 and June 2019.\n",
    "\n",
    "I will use age range from 15 to 90 for the aim of the project"
   ]
  },
  {
   "cell_type": "code",
   "execution_count": 16,
   "metadata": {},
   "outputs": [
    {
     "data": {
      "text/plain": [
       "array([49, 83, 68, ..., 49, 74, 83])"
      ]
     },
     "execution_count": 16,
     "metadata": {},
     "output_type": "execute_result"
    }
   ],
   "source": [
    "\n",
    "# Generate age from 15 and 90 years\n",
    "age = np.random.randint(15,90, 7400)\n",
    "age\n"
   ]
  },
  {
   "cell_type": "code",
   "execution_count": 19,
   "metadata": {},
   "outputs": [
    {
     "data": {
      "text/plain": [
       "51.74472972972973"
      ]
     },
     "execution_count": 19,
     "metadata": {},
     "output_type": "execute_result"
    }
   ],
   "source": [
    "# mean age sample\n",
    "np.mean(age)"
   ]
  },
  {
   "cell_type": "code",
   "execution_count": 20,
   "metadata": {},
   "outputs": [
    {
     "data": {
      "text/plain": [
       "52.0"
      ]
     },
     "execution_count": 20,
     "metadata": {},
     "output_type": "execute_result"
    }
   ],
   "source": [
    "# mediam age sample\n",
    "np.median(age)"
   ]
  },
  {
   "cell_type": "code",
   "execution_count": 18,
   "metadata": {},
   "outputs": [
    {
     "data": {
      "image/png": "[encoded data removed]",
      "text/plain": [
       "<Figure size 432x288 with 1 Axes>"
      ]
     },
     "metadata": {
      "needs_background": "light"
     },
     "output_type": "display_data"
    }
   ],
   "source": [
    "import matplotlib.pyplot as plt\n",
    "age = np.random.normal(51.74472972972973,15,7400) # using mean,51.74472972972973 and standard deviation is 15 to hist gragh\n",
    "plt.hist(age)\n",
    "plt.title('Lunch of healthy Ireland 2021')\n",
    "plt.xlabel('Age range')\n",
    "plt.show()"
   ]
  },
  {
   "cell_type": "markdown",
   "metadata": {},
   "source": [
    "## Gender\n",
    "\n",
    "Gender is a nominal variable that have two categories (male and female) and there is no intrinsic ordering to the categories. You can assign a numerical value (e.g \"Male\" = 1, \"Female\" = 2)\n",
    "\n",
    " According to the census by the central statistics office in 2016, third level graduates statistics had a total of 30,743 Males and a total of 33,540 Females which equals 64,283 students or approx 48% to 52%.\n",
    "I will use the approx in fraction to create simulation gender prbability function. ie. 0.48 for male and 0.52 for female."
   ]
  },
  {
   "cell_type": "code",
   "execution_count": 24,
   "metadata": {},
   "outputs": [
    {
     "data": {
      "image/png": "[encoded data removed]",
      "text/plain": [
       "<Figure size 432x288 with 1 Axes>"
      ]
     },
     "metadata": {
      "needs_background": "light"
     },
     "output_type": "display_data"
    }
   ],
   "source": [
    "import matplotlib.pyplot as plt\n",
    "import numpy as np\n",
    "m'''Generate 74000 numbers to represent male(1) and female(2) with probability defined'''\n",
    "\n",
    "genders= ['Male', 'Female']\n",
    "np.random.choice(genders, 7400, p=[0.48, 0.52])\n",
    "\n",
    "plt.hist(genders)\n",
    "plt.title('Total Males And Total Females')\n",
    "plt.xlabel('Male = 1 , Female = 2')\n",
    "plt.ylabel('Number of people')\n",
    "\n",
    "plt.show()\n",
    "\n"
   ]
  },
  {
   "cell_type": "markdown",
   "metadata": {},
   "source": [
    "## Physical Activity\n",
    "\n",
    "***\n",
    "\n",
    "Survey respondents were asked about the time they spent being physically\n",
    "active during the previous seven days. This included all activity that they do\n",
    "at work, as part of their housework and gardening, travelling, as well as in\n",
    "their spare time for recreation, exercise or sport. Respondents were asked\n",
    "separately about the amount of vigorous and moderate physical activity\n",
    "that they did, as well as the time spent walking. They were also asked about\n",
    "the time spent sitting on a typical weekday and a typical weekend day.\n",
    "Using this approach, it is possible to identify whether respondents are\n",
    "achieving at least the minimum amount of activity recommended by the\n",
    "National Guidelines on Physical Activity for Ireland. This recommends that\n",
    "adults should have at least 30 minutes a day of moderate activity on 5 days\n",
    "a week (or 150 minutes a week).\n",
    "\n",
    "I will use time spent on weekly physical activity to generate simulation dataset for the project."
   ]
  },
  {
   "cell_type": "code",
   "execution_count": 11,
   "metadata": {},
   "outputs": [
    {
     "data": {
      "text/plain": [
       "array([ 49,  28, 114, ...,  57,  30,  95])"
      ]
     },
     "execution_count": 11,
     "metadata": {},
     "output_type": "execute_result"
    }
   ],
   "source": [
    "import numpy as np\n",
    "Physical_Activity = np.random.randint(1,150, 7400)\n",
    "Physical_Activity"
   ]
  },
  {
   "cell_type": "code",
   "execution_count": 14,
   "metadata": {},
   "outputs": [
    {
     "data": {
      "text/plain": [
       "74.58189189189189"
      ]
     },
     "execution_count": 14,
     "metadata": {},
     "output_type": "execute_result"
    }
   ],
   "source": [
    "np.mean(Physical_Activity)"
   ]
  },
  {
   "cell_type": "code",
   "execution_count": 20,
   "metadata": {},
   "outputs": [
    {
     "data": {
      "image/png": "[encoded data removed]",
      "text/plain": [
       "<Figure size 432x288 with 1 Axes>"
      ]
     },
     "metadata": {
      "needs_background": "light"
     },
     "output_type": "display_data"
    }
   ],
   "source": [
    "import matplotlib.pyplot as plt\n",
    "Physical_Activity = np.random.normal(74.58189189189189,15,7400)# mean 74.58189189189189 and standard deviation 15 to plot gragh\n",
    "plt.hist(Physical_Activity)\n",
    "plt.title('Physical Activity')\n",
    "plt.xlabel('Physical Activity in minutes')\n",
    "plt.show()"
   ]
  },
  {
   "cell_type": "markdown",
   "metadata": {},
   "source": [
    "## Amount of Sleep\n",
    "\n",
    "***\n",
    "Sleep is considered to be one of the foundational elements of a healthy\n",
    "lifestyle. A lack of adequate, good quality sleep can have wide-ranging\n",
    "negative effects on general health in many respects including through\n",
    "lower levels of physical activity and an increased risk of obesity.\n",
    "\n",
    "On average, participants reported getting 7 to 8 hours sleep on an\n",
    "average week night or work night.\n",
    "\n",
    "I will use average weekly hour spent on sleep to generate dataset for the purpose of the project."
   ]
  },
  {
   "cell_type": "code",
   "execution_count": 22,
   "metadata": {},
   "outputs": [
    {
     "data": {
      "text/plain": [
       "array([4, 4, 7, ..., 6, 7, 1])"
      ]
     },
     "execution_count": 22,
     "metadata": {},
     "output_type": "execute_result"
    }
   ],
   "source": [
    "import numpy as np\n",
    "from time import sleep\n",
    "sleep = np.random.randint(1,8,7400)\n",
    "sleep"
   ]
  },
  {
   "cell_type": "code",
   "execution_count": 10,
   "metadata": {},
   "outputs": [
    {
     "data": {
      "text/plain": [
       "4.008108108108108"
      ]
     },
     "execution_count": 10,
     "metadata": {},
     "output_type": "execute_result"
    }
   ],
   "source": [
    "np.mean(sleep)"
   ]
  },
  {
   "cell_type": "code",
   "execution_count": 20,
   "metadata": {},
   "outputs": [
    {
     "data": {
      "image/png": "[encoded data removed]",
      "text/plain": [
       "<Figure size 432x288 with 1 Axes>"
      ]
     },
     "metadata": {
      "needs_background": "light"
     },
     "output_type": "display_data"
    }
   ],
   "source": [
    "import matplotlib.pyplot as plt\n",
    "import seaborn as sns\n",
    "import pandas as pd\n",
    "\n",
    "sleep = pd.DataFrame(np.random.normal(4.008108108108108, 15, 7400))\n",
    "sns.distplot(sleep, color= 'blue')\n",
    "plt.title('Amount of sleep')\n",
    "plt.xlabel('Average sleep')\n",
    "plt.show()\n",
    "sleep.columns = ['sleep']"
   ]
  },
  {
   "cell_type": "markdown",
   "metadata": {},
   "source": [
    "## Weight and Body Mass Index(BMI)\n",
    "***\n",
    "This wave of the survey finds that 37% have a normal weight, 37% are\n",
    "overweight and 23% are obese. 2% are underweight.\n",
    "• While men are more likely than women to be overweight or obese\n",
    "(66% and 55% respectively), there has been a decline in the proportion\n",
    "of men that are overweight or obese (from 70% in 2017 to 66% in\n",
    "2019).\n",
    "• While the proportion that has a normal weight declines with age, the\n",
    "proportion that is overweight or obese rises with age. Among those\n",
    "aged between 15 and 24, 65% have a normal weight and 28% are\n",
    "overweight or obese. However, among those aged 65 and older, 26%\n",
    "have a normal weight and 74% are overweight or obese.\n",
    "• Among those aged 15 to 24, there is no difference between the\n",
    "proportions of men and women that have a normal weight (65%),\n",
    "however among older age groups there is a persistent difference\n",
    "between both sexes. For example, 47% of women aged between 25\n",
    "and 34 have a normal weight, compared with 34% of men. Among\n",
    "those aged 75 and older, women are almost twice as likely as men to\n",
    "have a normal weight (34% and 18% respectively).\n",
    "• Those living in deprived areas are more likely than those living in\n",
    "affluent areas to be overweight or obese (65% and 55% respectively).\n",
    "Among those aged under 35, 50% of those living in deprived areas\n",
    "are overweight or obese, compared to 37% of those living in affluent\n",
    "areas.\n",
    "\n",
    "According to world data.info, Avergae Irish male weight is 73.1 kilo and female is 73.1\n",
    "\n",
    "I will use 89.2 kilo for male weight and 73.1 kilo for female weight to generate dataset for the purpose of the project"
   ]
  },
  {
   "cell_type": "code",
   "execution_count": 46,
   "metadata": {},
   "outputs": [
    {
     "data": {
      "image/png": "[encoded data removed]",
      "text/plain": [
       "<Figure size 432x288 with 1 Axes>"
      ]
     },
     "metadata": {
      "needs_background": "light"
     },
     "output_type": "display_data"
    }
   ],
   "source": [
    "import matplotlib.pyplot as plt\n",
    "\n",
    "m_weight = np.random.normal(89.2,15,7400)# mean 89.2 kilo while standard deviation is use as 15\n",
    "plt.hist(m_weight)\n",
    "plt.title('Male Body Weight')\n",
    "plt.xlabel('Body weight in kilos')\n",
    "plt.show()"
   ]
  },
  {
   "cell_type": "code",
   "execution_count": 47,
   "metadata": {},
   "outputs": [
    {
     "data": {
      "image/png": "[encoded data removed]",
      "text/plain": [
       "<Figure size 432x288 with 1 Axes>"
      ]
     },
     "metadata": {
      "needs_background": "light"
     },
     "output_type": "display_data"
    }
   ],
   "source": [
    "import matplotlib.pyplot as plt\n",
    "\n",
    "f_weight = np.random.normal(73.1,15,7400)# mean 73.1  kilo and standard deviation 15\n",
    "plt.hist(f_weight)\n",
    "plt.title('Female Body Weight')\n",
    "plt.xlabel('Body weight in kilos')\n",
    "plt.show()"
   ]
  },
  {
   "cell_type": "markdown",
   "metadata": {},
   "source": [
    "## Simulating the data"
   ]
  },
  {
   "cell_type": "markdown",
   "metadata": {},
   "source": [
    "\n",
    "\n",
    "## References:\n",
    "\n",
    "***\n",
    "\n",
    "- Programming for Data Analysis 2019, https://github.com/NiamhOL/Programming-for-Data-Analysis-Project-2019/blob/master/Programming%20for%20Data%20Analysis%202019%20Project.ipynb\n",
    "\n",
    "- Kelleher, D. (2018), Module - Programming for Data Analysis, https://github.com/dermotkel/programming-project/blob/master/Programming%20Project.ipynb\n",
    "\n",
    "- Irish Social Science Data Arcive, https://www.ucd.ie/issda/data/surveyonlifestyleandattitudestonutritionslan/\n",
    "\n",
    "- SLAN 2007 Report on Survey on Mental Health ans Social Wellbeing, https://www.ucd.ie/issda/t4media/slan_wellbeing_report.pdf\n",
    "\n",
    "- Lunch of Healthy Ireland survey 2020, https://www.gov.ie/en/press-release/e9c75-launch-of-the-healthy-ireland-survey-2021/ \n",
    "\n",
    "- Healthy Ireland Summary Report, https://assets.gov.ie/41141/e5d6fea3a59a4720b081893e11fe299e.pdf\n",
    "\n",
    "- Healthy Ireland survey 2018, https://www.google.com/search?ei=YCXPX8XpBPq21fAP1aaz-Aw&q=age+on+healthy+survey+ireland&oq=age+on+healthy+survey+ireland&gs_lcp=CgZwc3ktYWIQDDoECAAQRzoECCEQC\n",
    "\n",
    "- Geoib.com, https://www.geoib.com/types-of-variables.html\n",
    "\n",
    "- Central Statistics Office(CSO), https://www.cso.ie/en/releasesandpublications/ep/p-wamii/womenandmeninireland2016/education\n",
    "\n",
    "- Feeney. R. (2018), Module - Programming for Data Analysis, https://github.com/richardfeeney7/Programming-for-Data-Analysis-Project/blob/master/%20Programming-for-Data-Analysis-Project.ipynb\n",
    "\n",
    "- Worlddata.info, https://www.worlddata.info/average-bodyheight.php"
   ]
  },
  {
   "cell_type": "code",
   "execution_count": null,
   "metadata": {},
   "outputs": [],
   "source": []
  }
 ],
 "metadata": {
  "kernelspec": {
   "display_name": "Python 3",
   "language": "python",
   "name": "python3"
  },
  "language_info": {
   "codemirror_mode": {
    "name": "ipython",
    "version": 3
   },
   "file_extension": ".py",
   "mimetype": "text/x-python",
   "name": "python",
   "nbconvert_exporter": "python",
   "pygments_lexer": "ipython3",
   "version": "3.8.3"
  }
 },
 "nbformat": 4,
 "nbformat_minor": 4
}
