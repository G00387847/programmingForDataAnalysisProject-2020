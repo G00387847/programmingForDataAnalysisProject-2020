{
 "cells": [
  {
   "cell_type": "markdown",
   "metadata": {},
   "source": [
    "# Programming for Data Analysis - 2020 Preject\n",
    "****\n",
    "\n",
    "## Course: Higher Diploma in Data Analytics\n",
    "\n",
    "## Module: Programming for Data Analytics\n",
    "\n",
    "## Year: 2020\n",
    "\n",
    "## Student Name : Bonny Chimezie Nwosu\n",
    "\n",
    "## Student ID : G00387847"
   ]
  },
  {
   "cell_type": "markdown",
   "metadata": {},
   "source": [
    "## Problem Statement\n",
    "\n",
    "***\n",
    "For this project you must create a data set by simulating a real-world phenomenon of\n",
    "your choosing. You may pick any phenomenon you wish – you might pick one that is\n",
    "of interest to you in your personal or professional life. Then, rather than collect data\n",
    "related to the phenomenon, you should model and synthesise such data using Python.\n",
    "We suggest you use the numpy.random package for this purpose.\n",
    "Specifically, in this project you should:"
   ]
  },
  {
   "cell_type": "markdown",
   "metadata": {},
   "source": [
    "## Mental health and Social wellbeing"
   ]
  },
  {
   "cell_type": "markdown",
   "metadata": {},
   "source": [
    "Programming for Data Analysis 2019[https://github.com/NiamhOL/Programming-for-Data-Analysis-Project-2019/blob/master/Programming%20for%20Data%20Analysis%202019%20Project.ipynb]\n",
    "\n",
    "\n",
    "Irish Social Science Data Arcive[https://www.ucd.ie/issda/data/surveyonlifestyleandattitudestonutritionslan/]\n",
    "\n",
    "SLAN 2007 Report on Survey on Mental Health ans Social Wellbeing[https://www.ucd.ie/issda/t4media/slan_wellbeing_report.pdf]"
   ]
  },
  {
   "cell_type": "code",
   "execution_count": null,
   "metadata": {},
   "outputs": [],
   "source": []
  }
 ],
 "metadata": {
  "kernelspec": {
   "display_name": "Python 3",
   "language": "python",
   "name": "python3"
  },
  "language_info": {
   "codemirror_mode": {
    "name": "ipython",
    "version": 3
   },
   "file_extension": ".py",
   "mimetype": "text/x-python",
   "name": "python",
   "nbconvert_exporter": "python",
   "pygments_lexer": "ipython3",
   "version": "3.8.3"
  }
 },
 "nbformat": 4,
 "nbformat_minor": 4
}
