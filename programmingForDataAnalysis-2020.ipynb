{
 "cells": [
  {
   "cell_type": "markdown",
   "metadata": {},
   "source": [
    "# Programming for Data Analysis - 2020 Preject\n",
    "****\n",
    "\n",
    "## Course: Higher Diploma in Data Analytics\n",
    "\n",
    "## Module: Programming for Data Analytics\n",
    "\n",
    "## Year: 2020\n",
    "\n",
    "## Student Name : Bonny Chimezie Nwosu\n",
    "\n",
    "## Student ID : G00387847"
   ]
  },
  {
   "cell_type": "markdown",
   "metadata": {},
   "source": [
    "## Introduction\n",
    "\n",
    "***\n",
    "The study of this project will be focus on how to use simulation to create a data  for a real-world phenomenon.\n",
    "By simulation we mean, an approximate imitation of the operation of a process or system that represents its operation over time.[1]\n",
    "\n",
    "Simulation is used in many contexts, such as simulation of technology for performance tuning or optimizing, safety engineering, testing, training, education[2], and video games. Often, computer experiments are used to study simulation models. Simulation is also used with scientific modelling of natural systems[2] or human systems to gain insight into their functioning,[3] as in economics. Simulation can be used to show the eventual real effects of alternative conditions and courses of action. Simulation is also used when the real system cannot be engaged, because it may not be accessible, or it may be dangerous or unacceptable to engage, or it is being designed but not yet built, or it may simply not exist.  wikipedia, https://en.wikipedia.org/wiki/Simulation\n",
    "\n",
    "The problem solving will base on how to generate a dataset that is close enough for the purpose to solve the real-world phenomenon\n",
    "\n",
    "\n",
    "## Problem Statement\n",
    "\n",
    "***\n",
    "For this project you must create a data set by simulating a real-world phenomenon of\n",
    "your choosing. You may pick any phenomenon you wish – you might pick one that is\n",
    "of interest to you in your personal or professional life. Then, rather than collect data\n",
    "related to the phenomenon, you should model and synthesise such data using Python.\n",
    "We suggest you use the numpy.random package for this purpose.\n",
    "Specifically, in this project you should:"
   ]
  },
  {
   "cell_type": "markdown",
   "metadata": {},
   "source": [
    "## Lunch of Healthy Ireland 2021\n",
    "\n",
    "***\n",
    "This is the seventh time the Healthy Ireland Survey will be conducted and adds to the data collected in the previous surveys from 2015 - 2020. It is envisaged that a representative sample of approximately 7,400 people, aged 15 and older, living in Ireland will be interviewed between October 2020 and June 2021.\n",
    "\n",
    "\n",
    "The project will base it research and investigation on Age, Gender, Physical Activity and BMI \n",
    "using 2019 healthy Ireland summary report \n",
    "\n",
    "\n"
   ]
  },
  {
   "cell_type": "code",
   "execution_count": 1,
   "metadata": {},
   "outputs": [],
   "source": [
    "import pandas as pd\n",
    "import seaborn as sns\n",
    "import numpy as np\n",
    "import matplotlib.pyplot as plt"
   ]
  },
  {
   "cell_type": "markdown",
   "metadata": {},
   "source": [
    "## Age\n",
    "\n",
    "The Healthy Ireland Survey uses an interviewer- administered questionnaire with interviews conducted on a face-to-face basis with individuals aged 15 and over. This is the fourth wave of the survey conducted between September 2018 and June 2019.\n",
    "\n",
    "I will use age range from 15 to 90 for the aim of the project"
   ]
  },
  {
   "cell_type": "code",
   "execution_count": 16,
   "metadata": {},
   "outputs": [
    {
     "data": {
      "text/plain": [
       "array([49, 83, 68, ..., 49, 74, 83])"
      ]
     },
     "execution_count": 16,
     "metadata": {},
     "output_type": "execute_result"
    }
   ],
   "source": [
    "\n",
    "# Generate age from 15 and 90 years\n",
    "age = np.random.randint(15,90, 7400)\n",
    "age\n"
   ]
  },
  {
   "cell_type": "code",
   "execution_count": 19,
   "metadata": {},
   "outputs": [
    {
     "data": {
      "text/plain": [
       "51.74472972972973"
      ]
     },
     "execution_count": 19,
     "metadata": {},
     "output_type": "execute_result"
    }
   ],
   "source": [
    "# mean age sample\n",
    "np.mean(age)"
   ]
  },
  {
   "cell_type": "code",
   "execution_count": 20,
   "metadata": {},
   "outputs": [
    {
     "data": {
      "text/plain": [
       "52.0"
      ]
     },
     "execution_count": 20,
     "metadata": {},
     "output_type": "execute_result"
    }
   ],
   "source": [
    "# mediam age sample\n",
    "np.median(age)"
   ]
  },
  {
   "cell_type": "code",
   "execution_count": 24,
   "metadata": {},
   "outputs": [
    {
     "data": {
      "image/png": "[encoded data removed]",
      "text/plain": [
       "<Figure size 432x288 with 1 Axes>"
      ]
     },
     "metadata": {
      "needs_background": "light"
     },
     "output_type": "display_data"
    }
   ],
   "source": [
    "import matplotlib.pyplot as plt\n",
    "age = np.random.randint(15,90,7400)\n",
    "plt.hist(age)\n",
    "plt.title('Lunch of healthy Ireland 2021')\n",
    "plt.xlabel('Age range')\n",
    "plt.show()"
   ]
  },
  {
   "cell_type": "markdown",
   "metadata": {},
   "source": [
    "## Gender\n",
    "\n",
    "Gender is a nominal variable that have two categories (male and female) and there is no intrinsic ordering to the categories. You can assign a numerical value (e.g \"Male\" = 1, \"Female\" = 2)\n",
    "\n",
    " According to the census by the central statistics office in 2016, third level graduates statistics had a total of 30,743 Males and a total of 33,540 Females which equals 64,283 students or approx 48% to 52%.\n",
    "I will use the approx in fraction to create simulation gender prbability function. ie. 0.48 for male and 0.52 for female."
   ]
  },
  {
   "cell_type": "code",
   "execution_count": 24,
   "metadata": {},
   "outputs": [
    {
     "data": {
      "image/png": "[encoded data removed]",
      "text/plain": [
       "<Figure size 432x288 with 1 Axes>"
      ]
     },
     "metadata": {
      "needs_background": "light"
     },
     "output_type": "display_data"
    }
   ],
   "source": [
    "import matplotlib.pyplot as plt\n",
    "import numpy as np\n",
    "#'''Generate 74000 numbers to represent male(1) and female(2) with probability defined'''\n",
    "\n",
    "genders= ['Male', 'Female']\n",
    "np.random.choice(genders, 7400, p=[0.48, 0.52])\n",
    "\n",
    "plt.hist(genders)\n",
    "plt.title('Total Males And Total Females')\n",
    "plt.xlabel('Male = 1 , Female = 2')\n",
    "plt.ylabel('Number of people')\n",
    "\n",
    "plt.show()\n",
    "\n"
   ]
  },
  {
   "cell_type": "markdown",
   "metadata": {},
   "source": [
    "\n",
    "\n",
    "Programming for Data Analysis 2019, https://github.com/NiamhOL/Programming-for-Data-Analysis-Project-2019/blob/master/Programming%20for%20Data%20Analysis%202019%20Project.ipynb\n",
    "\n",
    "\n",
    "Irish Social Science Data Arcive, https://www.ucd.ie/issda/data/surveyonlifestyleandattitudestonutritionslan/\n",
    "\n",
    "SLAN 2007 Report on Survey on Mental Health ans Social Wellbeing, https://www.ucd.ie/issda/t4media/slan_wellbeing_report.pdf\n",
    "\n",
    "Lunch of Healthy Ireland survey 2020, https://www.gov.ie/en/press-release/e9c75-launch-of-the-healthy-ireland-survey-2021/ \n",
    "\n",
    "Healthy Ireland Summary Report, https://assets.gov.ie/41141/e5d6fea3a59a4720b081893e11fe299e.pdf\n",
    "\n",
    "Healthy Ireland survey 2018, https://www.google.com/search?ei=YCXPX8XpBPq21fAP1aaz-Aw&q=age+on+healthy+survey+ireland&oq=age+on+healthy+survey+ireland&gs_lcp=CgZwc3ktYWIQDDoECAAQRzoECCEQC\n",
    "\n",
    "Geoib.com, https://www.geoib.com/types-of-variables.html\n",
    "\n",
    "Central Statistics Office(CSO), https://www.cso.ie/en/releasesandpublications/ep/p-wamii/womenandmeninireland2016/education\n",
    "\n",
    "Feeney. R. (2018), Module - Programming for Data Analysis, https://github.com/richardfeeney7/Programming-for-Data-Analysis-Project/blob/master/%20Programming-for-Data-Analysis-Project.ipynb"
   ]
  },
  {
   "cell_type": "code",
   "execution_count": null,
   "metadata": {},
   "outputs": [],
   "source": []
  }
 ],
 "metadata": {
  "kernelspec": {
   "display_name": "Python 3",
   "language": "python",
   "name": "python3"
  },
  "language_info": {
   "codemirror_mode": {
    "name": "ipython",
    "version": 3
   },
   "file_extension": ".py",
   "mimetype": "text/x-python",
   "name": "python",
   "nbconvert_exporter": "python",
   "pygments_lexer": "ipython3",
   "version": "3.8.3"
  }
 },
 "nbformat": 4,
 "nbformat_minor": 4
}
