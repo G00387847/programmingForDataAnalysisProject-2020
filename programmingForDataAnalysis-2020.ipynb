{
 "cells": [
  {
   "cell_type": "markdown",
   "metadata": {},
   "source": [
    "# Programming for Data Analysis - 2020 Preject\n",
    "****\n",
    "\n",
    "## Course: Higher Diploma in Data Analytics\n",
    "\n",
    "## Module: Programming for Data Analytics\n",
    "\n",
    "## Year: 2020\n",
    "\n",
    "## Student Name : Bonny Chimezie Nwosu\n",
    "\n",
    "## Student ID : G00387847"
   ]
  },
  {
   "cell_type": "markdown",
   "metadata": {},
   "source": [
    "## Introduction\n",
    "\n",
    "***\n",
    "The study of this project will be focus on how to use simulation to create a data  for a real-world phenomenon.\n",
    "By simulation we mean, an approximate imitation of the operation of a process or system that represents its operation over time.[1]\n",
    "\n",
    "Simulation is used in many contexts, such as simulation of technology for performance tuning or optimizing, safety engineering, testing, training, education[2], and video games. Often, computer experiments are used to study simulation models. Simulation is also used with scientific modelling of natural systems[2] or human systems to gain insight into their functioning,[3] as in economics. Simulation can be used to show the eventual real effects of alternative conditions and courses of action. Simulation is also used when the real system cannot be engaged, because it may not be accessible, or it may be dangerous or unacceptable to engage, or it is being designed but not yet built, or it may simply not exist.  wikipedia, https://en.wikipedia.org/wiki/Simulation\n",
    "\n",
    "The problem solving will base on how to generate a dataset that is close enough for the purpose to solve the real-world phenomenon\n",
    "\n",
    "\n",
    "## Problem Statement\n",
    "\n",
    "***\n",
    "For this project you must create a data set by simulating a real-world phenomenon of\n",
    "your choosing. You may pick any phenomenon you wish – you might pick one that is\n",
    "of interest to you in your personal or professional life. Then, rather than collect data\n",
    "related to the phenomenon, you should model and synthesise such data using Python.\n",
    "We suggest you use the numpy.random package for this purpose.\n",
    "Specifically, in this project you should:"
   ]
  },
  {
   "cell_type": "markdown",
   "metadata": {},
   "source": [
    "## Lunch of Healthy Ireland 2021\n",
    "\n",
    "***\n",
    "This is the seventh time the Healthy Ireland Survey will be conducted and adds to the data collected in the previous surveys from 2015 - 2020. It is envisaged that a representative sample of approximately 7,400 people, aged 15 and older, living in Ireland will be interviewed between October 2020 and June 2021.\n",
    "\n",
    "\n",
    "I will use 2019 healthy Ireland summary report for purpose of area of survey points\n",
    "\n",
    "- Smoking\n",
    "- Tobacco packaging\n",
    "- Physical activity\n",
    "- General health\n",
    "- Physical measurements (weight, height and waist circumference)\n",
    "- Usage of GPs\n",
    "- Usage of other health professionals\n",
    "- Sun protection\n",
    "- Caring Responsibilities\n",
    "- Sleep\n",
    "- Parents and Health\n",
    "\n"
   ]
  },
  {
   "cell_type": "code",
   "execution_count": 1,
   "metadata": {},
   "outputs": [],
   "source": [
    "import pandas as pd\n",
    "import seaborn as sns\n",
    "import numpy as np\n",
    "import matplotlib.pyplot as plt"
   ]
  },
  {
   "cell_type": "markdown",
   "metadata": {},
   "source": [
    "Programming for Data Analysis 2019, https://github.com/NiamhOL/Programming-for-Data-Analysis-Project-2019/blob/master/Programming%20for%20Data%20Analysis%202019%20Project.ipynb\n",
    "\n",
    "\n",
    "Irish Social Science Data Arcive, https://www.ucd.ie/issda/data/surveyonlifestyleandattitudestonutritionslan/\n",
    "\n",
    "SLAN 2007 Report on Survey on Mental Health ans Social Wellbeing, https://www.ucd.ie/issda/t4media/slan_wellbeing_report.pdf\n",
    "\n",
    "Lunch of Healthy Ireland survey 2020, https://www.gov.ie/en/press-release/e9c75-launch-of-the-healthy-ireland-survey-2021/ \n",
    "\n",
    "Healthy Ireland Summary Report, https://assets.gov.ie/41141/e5d6fea3a59a4720b081893e11fe299e.pdf"
   ]
  },
  {
   "cell_type": "code",
   "execution_count": null,
   "metadata": {},
   "outputs": [],
   "source": []
  }
 ],
 "metadata": {
  "kernelspec": {
   "display_name": "Python 3",
   "language": "python",
   "name": "python3"
  },
  "language_info": {
   "codemirror_mode": {
    "name": "ipython",
    "version": 3
   },
   "file_extension": ".py",
   "mimetype": "text/x-python",
   "name": "python",
   "nbconvert_exporter": "python",
   "pygments_lexer": "ipython3",
   "version": "3.8.3"
  }
 },
 "nbformat": 4,
 "nbformat_minor": 4
}
